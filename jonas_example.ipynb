{
 "cells": [
  {
   "cell_type": "markdown",
   "metadata": {},
   "source": [
    "Simple efficiency example\n",
    "===="
   ]
  },
  {
   "cell_type": "markdown",
   "metadata": {},
   "source": [
    "Let's define some PDFs and an efficiency that all look like step functions:\n",
    "\n",
    "$p_1(x) = 1, x < 0; 0.1, x > 0$  \n",
    "$p_2(x) = 0.1, x < 0; 1, x > 0$\n",
    "\n",
    "$\\epsilon(x) = 1, x < 0; 0.5, x > 0$\n"
   ]
  },
  {
   "cell_type": "code",
   "execution_count": 1,
   "metadata": {},
   "outputs": [],
   "source": [
    "import numpy as np\n",
    "import matplotlib.pyplot as plt"
   ]
  },
  {
   "cell_type": "code",
   "execution_count": 2,
   "metadata": {},
   "outputs": [
    {
     "data": {
      "image/png": "[encoded data removed]",
      "text/plain": [
       "<Figure size 864x432 with 2 Axes>"
      ]
     },
     "metadata": {
      "needs_background": "light"
     },
     "output_type": "display_data"
    }
   ],
   "source": [
    "# Define and plot efficiency and pdfs\n",
    "pdf_domain = -1.0, 1.0\n",
    "pdf_range = 0.0, 1.1\n",
    "\n",
    "def p1(x):\n",
    "    if x < 0:\n",
    "        return 1\n",
    "    return 0.1\n",
    "\n",
    "def p2(x):\n",
    "    if x < 0:\n",
    "        return 0.1\n",
    "    return 1\n",
    "\n",
    "def e(x):\n",
    "    if x < 0:\n",
    "        return 1\n",
    "    return 0.5\n",
    "\n",
    "domain = np.linspace(pdf_domain[0], pdf_domain[1], 100)\n",
    "\n",
    "fig, ax = plt.subplots(1, 2, figsize=(12, 6))\n",
    "ax[0].plot(domain, [p1(x) for x in domain], label=r\"$p_1(x)$\")\n",
    "ax[0].plot(domain, [p2(x) for x in domain], label=r\"$p_2(x)$\")\n",
    "ax[0].set_title(\"PDFs\")\n",
    "ax[0].set_ylim((0.0, 1.1))\n",
    "\n",
    "ax[1].plot(domain, [e(x) for x in domain], label=r\"$\\epsilon(x)$\", color=\"r\")\n",
    "ax[1].set_title(\"Efficiency\")\n",
    "ax[1].set_ylim((0.0, 1.1))\n",
    "\n",
    "ax[0].legend()\n",
    "ax[1].legend()\n",
    "plt.show()"
   ]
  },
  {
   "cell_type": "markdown",
   "metadata": {},
   "source": [
    "If we take random samples of size $N_1$ and $N_2$ from the distributions, we would expect to find\n",
    "$\\frac{20}{21}N_1 + \\frac{1}{6}N_2$ samples in the region $x < 0$ and $\\frac{5}{6}N_2 + \\frac{1}{21}N_1$ samples in the region $x > 0$.\n",
    "\n",
    "(The efficiency $\\epsilon(x)$ means it is not immediately obvious (to me) what the coefficients in the above equation should be)\n"
   ]
  },
  {
   "cell_type": "code",
   "execution_count": 3,
   "metadata": {},
   "outputs": [],
   "source": [
    "rng = np.random.default_rng()\n",
    "\n",
    "def sample(N, pdf):\n",
    "    \"\"\"\n",
    "    Use accept-reject sampling to get N samples from pdf\n",
    "    \n",
    "    slow\n",
    "    \n",
    "    \"\"\"\n",
    "    if N == 0:\n",
    "        return []\n",
    "    \n",
    "    points = np.zeros(N)\n",
    "    num_generated = 0\n",
    "\n",
    "    while num_generated < N:\n",
    "        # Generate a point\n",
    "        x = pdf_domain[0] + (pdf_domain[1] - pdf_domain[0]) * rng.random()\n",
    "        y = pdf_range[0] + (pdf_range[1] - pdf_range[0]) * rng.random()\n",
    "\n",
    "        if y < pdf(x):\n",
    "            points[num_generated] = x\n",
    "            num_generated += 1\n",
    "\n",
    "    return points"
   ]
  },
  {
   "cell_type": "code",
   "execution_count": 4,
   "metadata": {},
   "outputs": [
    {
     "data": {
      "image/png": "[encoded data removed]",
      "text/plain": [
       "<Figure size 864x432 with 1 Axes>"
      ]
     },
     "metadata": {
      "needs_background": "light"
     },
     "output_type": "display_data"
    },
    {
     "name": "stdout",
     "output_type": "stream",
     "text": [
      "Expected:\t16452.4;\t11547.6\tin regions x<0 and x>0\n",
      "Actual:\t\t16457;\t\t11543\n"
     ]
    }
   ],
   "source": [
    "# Take samples from both p1(x) and p2(x); keeping the efficiency\n",
    "N1, N2 = 15000, 13000\n",
    "\n",
    "# Take samples including the efficiency\n",
    "p1_sample = sample(N1, lambda x: p1(x) * e(x))\n",
    "p2_sample = sample(N2, lambda x: p2(x) * e(x))\n",
    "\n",
    "combined_sample = np.concatenate((p1_sample, p2_sample))\n",
    "\n",
    "kw = {\"bins\": np.linspace(-1, 1, 20), \"histtype\": \"step\"}\n",
    "fig, ax = plt.subplots(1, 1, figsize=(12, 6))\n",
    "\n",
    "ax.hist(p1_sample, **kw, label=r\"$p_1(x)\\epsilon(x)$\", alpha=0.3)\n",
    "ax.hist(p2_sample, **kw, label=r\"$p_2(x)\\epsilon(x)$\", alpha=0.3)\n",
    "ax.hist(combined_sample, **kw, label=\"$[p_1(x) + p_2(x)]\\epsilon(x)$\", color=\"r\")\n",
    "ax.legend()\n",
    "ax.set_title(\"MC sample\")\n",
    "plt.show()\n",
    "\n",
    "expected_neg = 20.0 * N1 / 21.0 + N2 / 6.0\n",
    "expected_pos = 5.0 * N2 / 6.0 + N1 / 21.0\n",
    "\n",
    "actual_neg = np.sum(combined_sample < 0)\n",
    "actual_pos = np.sum(combined_sample > 0)\n",
    "\n",
    "print(f\"Expected:\\t{expected_neg:.1f};\\t{expected_pos:.1f}\\tin regions x<0 and x>0\")\n",
    "print(f\"Actual:\\t\\t{actual_neg};\\t\\t{actual_pos}\")"
   ]
  },
  {
   "cell_type": "markdown",
   "metadata": {},
   "source": [
    "The PDF describing this combined distribution is $p(x) = I_1p_1(x) + I_2p_2(x)$, with\n",
    "\n",
    "$I_1 = \\sum_i^{N_1}1/p_1(x_i)$ etc.\n",
    "\n",
    "In our case this is $p(x) = \\frac{10}{7}N_1p_1(x) + \\frac{5}{2}N_2p_2(x)$\n",
    "\n",
    "Postulate that the \"true\" PDF describing our combined distribution is $p(x)\\epsilon(x)$; we should be able to find the efficiency by taking a sample from the $p(x)$:"
   ]
  },
  {
   "cell_type": "code",
   "execution_count": null,
   "metadata": {},
   "outputs": [],
   "source": [
    "def combined_pdf(x):\n",
    "    return 10.0 * N1 * p1(x) / 7.0 + 5.0 * N2 * p2(x) / 2.0\n",
    "\n",
    "fig, ax = plt.subplots(1, 1, figsize=(12.0, 6.0))\n",
    "ax.plot(domain, [combined_pdf(x) for x in domain])\n",
    "plt.show()"
   ]
  },
  {
   "cell_type": "code",
   "execution_count": null,
   "metadata": {},
   "outputs": [],
   "source": []
  },
  {
   "cell_type": "code",
   "execution_count": null,
   "metadata": {},
   "outputs": [],
   "source": []
  }
 ],
 "metadata": {
  "kernelspec": {
   "display_name": "Python 3",
   "language": "python",
   "name": "python3"
  },
  "language_info": {
   "codemirror_mode": {
    "name": "ipython",
    "version": 3
   },
   "file_extension": ".py",
   "mimetype": "text/x-python",
   "name": "python",
   "nbconvert_exporter": "python",
   "pygments_lexer": "ipython3",
   "version": "3.7.3"
  }
 },
 "nbformat": 4,
 "nbformat_minor": 2
}
