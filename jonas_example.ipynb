{
 "cells": [
  {
   "cell_type": "markdown",
   "metadata": {},
   "source": [
    "Simple efficiency example\n",
    "===="
   ]
  },
  {
   "cell_type": "markdown",
   "metadata": {},
   "source": [
    "Let's define some PDFs and an efficiency that all look like step functions:\n",
    "\n",
    "$p_1(x) = 1, x < 0; 0.1, x > 0$  \n",
    "$p_2(x) = 0.1, x < 0; 1, x > 0$\n",
    "\n",
    "$\\epsilon(x) = 1, x < 0; 0.5, x > 0$\n"
   ]
  },
  {
   "cell_type": "code",
   "execution_count": null,
   "metadata": {},
   "outputs": [],
   "source": [
    "# Define and plot efficiency and pdfs"
   ]
  },
  {
   "cell_type": "markdown",
   "metadata": {},
   "source": [
    "If we take random samples of size $N_1$ and $N_2$ from the distributions, we would expect to find\n",
    "$\\frac{10}{11}N_1 + \\frac{1}{11}N_2$ samples in the region $x < 0$ and $\\frac{5}{11}N_2 + \\frac{1}{22}N_1$ samples in the region $x > 0$."
   ]
  },
  {
   "cell_type": "code",
   "execution_count": null,
   "metadata": {},
   "outputs": [],
   "source": [
    "# Samples from both, combine them"
   ]
  },
  {
   "cell_type": "markdown",
   "metadata": {},
   "source": [
    "The PDF describing this combined distribution is $p(x) = I_1p_1(x) + I_2p_2(x)$, with\n",
    "\n",
    "$I_1 = \\sum_i^{N_1}1/p_1(x_i)$ etc.\n",
    "\n",
    "In our case this is $p(x) = \\frac{15}{11}N_1p_1(x) + \\frac{15}{11}N_2p_2(x)$\n",
    "\n",
    "Postulate that the \"true\" PDF describing our combined distribution is $p(x)\\epsilon(x)$; we should be able to find the efficiency by taking a sample from the $p(x)$:"
   ]
  },
  {
   "cell_type": "code",
   "execution_count": null,
   "metadata": {},
   "outputs": [],
   "source": []
  },
  {
   "cell_type": "code",
   "execution_count": null,
   "metadata": {},
   "outputs": [],
   "source": []
  }
 ],
 "metadata": {
  "kernelspec": {
   "display_name": "Python 3",
   "language": "python",
   "name": "python3"
  },
  "language_info": {
   "codemirror_mode": {
    "name": "ipython",
    "version": 3
   },
   "file_extension": ".py",
   "mimetype": "text/x-python",
   "name": "python",
   "nbconvert_exporter": "python",
   "pygments_lexer": "ipython3",
   "version": "3.7.3"
  }
 },
 "nbformat": 4,
 "nbformat_minor": 2
}
