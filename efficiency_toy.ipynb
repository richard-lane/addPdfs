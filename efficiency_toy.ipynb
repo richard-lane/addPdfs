{
 "cells": [
  {
   "cell_type": "markdown",
   "metadata": {},
   "source": [
    "Efficiency Toy\n",
    "====\n",
    "\n",
    "Example of the efficiency correction procedure using multiple distributions"
   ]
  },
  {
   "cell_type": "code",
   "execution_count": 1,
   "metadata": {},
   "outputs": [],
   "source": [
    "# Just some boilerplate code\n",
    "import numpy as np\n",
    "from scipy.stats import norm\n",
    "import matplotlib.pyplot as plt\n",
    "\n",
    "from matplotlib import rcParams\n",
    "\n",
    "rcParams[\"figure.figsize\"] = (10.0, 8.0)\n",
    "\n",
    "rng = np.random.default_rng()\n",
    "pdf_domain = (-3, 7)\n",
    "pdf_range = (0, 1.0)\n",
    "\n",
    "\n",
    "def sample(N, pdf):\n",
    "    \"\"\"\n",
    "    Use accept-reject sampling to get N samples from pdf\n",
    "    \n",
    "    slow\n",
    "    \n",
    "    \"\"\"\n",
    "    points = np.zeros(N)\n",
    "    num_generated = 0\n",
    "\n",
    "    while num_generated < N:\n",
    "        # Generate a point\n",
    "        x = pdf_domain[0] + (pdf_domain[1] - pdf_domain[0]) * rng.random()\n",
    "        y = pdf_range[0] + (pdf_range[1] - pdf_range[0]) * rng.random()\n",
    "\n",
    "        if y < pdf(x):\n",
    "            points[num_generated] = x\n",
    "            num_generated += 1\n",
    "\n",
    "    return points"
   ]
  },
  {
   "cell_type": "markdown",
   "metadata": {},
   "source": [
    "We have three different distributions - call them WS, RS (\"wrong/right sign\") and phsp.\n",
    "We can generate these from the models (\"model sample\") or via LHCb Monte Carlo (\"MC sample\").\n",
    "\n",
    "The MC samples are affected by the efficiency- by comparing the MC sample to the model samples\n",
    "We can extract the efficiency function $\\epsilon(x)$.\n",
    "\n",
    "We have three models; their PDFs are $\\mathcal{A}_{RS}(x)$, $\\mathcal{A}_{WS}(x)$ and $\\mathcal{A}_{phsp}(x)$.\n",
    "The corresponding PDFs describing the MC are $\\mathcal{A}_{RS}(x)\\epsilon(x)$, etc.\n",
    "\n",
    "The PDF describing the combined model samples is:\n",
    "$p_{model}(x) = \\mathcal{I}_{RS}\\mathcal{A}_{RS}(x) + \\mathcal{I}_{WS}\\mathcal{A}_{WS}(x) + \\mathcal{I}_{phsp}\\mathcal{A}_{phsp}(x)$; the PDF describing the combined MC samples is this multiplied by $\\epsilon(x)$. $\\mathcal{I}_i$ are numerical factors that can be found from the relative statistics of the MC samples.\n",
    "\n",
    "Below is a toy example of the procedure used to find the efficiency.\n",
    "\n",
    "First we need to generate MC samples:"
   ]
  },
  {
   "cell_type": "code",
   "execution_count": 2,
   "metadata": {},
   "outputs": [
    {
     "data": {
      "image/png": "[encoded data removed]",
      "text/plain": [
       "<Figure size 864x432 with 2 Axes>"
      ]
     },
     "metadata": {
      "needs_background": "light"
     },
     "output_type": "display_data"
    }
   ],
   "source": [
    "# Model \"PDFs\" - not normalised (on purpose, since in reality amplitude models are rarely normalised)\n",
    "def A_rs(x):\n",
    "    return 2.2 * norm.pdf(x, loc=0, scale=1)\n",
    "\n",
    "def A_phsp(x):\n",
    "    return int(pdf_domain[0] < x < pdf_domain[1])\n",
    "\n",
    "def e(x):\n",
    "    return 0.9 + 0.1 * np.sin(x)\n",
    "\n",
    "x = np.linspace(*pdf_domain, 100)\n",
    "fig, ax = plt.subplots(1, 2, figsize=(12.0, 6.0))\n",
    "ax[0].plot(x, [A_rs(i) for i in x], label=r\"$A_{rs}$\")\n",
    "ax[0].plot(x, [A_phsp(i) for i in x], label=r\"$A_{phsp}$\")\n",
    "ax[0].set_ylim((0.0, 1.1))\n",
    "ax[0].legend()\n",
    "ax[0].set_title(\"PDFs\")\n",
    "\n",
    "ax[1].plot(x, [e(i) for i in x], label=\"$\\epsilon(x)$\", color=\"r\")\n",
    "ax[1].legend()\n",
    "ax[1].set_ylim((0.0, 1.1))\n",
    "ax[1].set_title(\"Efficiency\")\n",
    "\n",
    "plt.show()\n"
   ]
  },
  {
   "cell_type": "code",
   "execution_count": null,
   "metadata": {},
   "outputs": [],
   "source": [
    "\n",
    "A_rs_mc = lambda x: efficiency(x) * A_rs(x)\n",
    "A_ws_mc = lambda x: efficiency(x) * A_ws(x)\n",
    "A_phsp_mc = lambda x: efficiency(x) * A_phsp(x)"
   ]
  },
  {
   "cell_type": "code",
   "execution_count": null,
   "metadata": {},
   "outputs": [],
   "source": [
    "# Generate different numbers of points from each distribution\n",
    "mc_rs_sample = sample(20000, A_rs_mc)\n",
    "mc_ws_sample = sample(40000, A_ws_mc)\n",
    "mc_phsp_sample = sample(20000, A_phsp_mc)"
   ]
  },
  {
   "cell_type": "markdown",
   "metadata": {},
   "source": [
    "Next we need to find the weights $\\mathcal{I}_i$ describing the combined model:"
   ]
  },
  {
   "cell_type": "code",
   "execution_count": null,
   "metadata": {},
   "outputs": [],
   "source": [
    "I_rs_mc, I_ws_mc, I_phsp_mc = 0.0, 0.0, 0.0\n",
    "\n",
    "for p in mc_rs_sample:\n",
    "    I_rs_mc += 1 / A_rs_mc(p)\n",
    "for p in mc_ws_sample:\n",
    "    I_ws_mc += 1 / A_ws_mc(p)\n",
    "for p in mc_phsp_sample:\n",
    "    I_phsp_mc += 1 / A_phsp_mc(p)\n",
    "    \n",
    "# Scale the weights to something more sensible\n",
    "scale_factor = I_rs_mc + I_ws_mc + I_phsp_mc\n",
    "I_rs_mc /= scale_factor\n",
    "I_ws_mc /= scale_factor\n",
    "I_phsp_mc /= scale_factor"
   ]
  },
  {
   "cell_type": "markdown",
   "metadata": {},
   "source": [
    "We can then construct the model PDF. This, when multiplied by the efficiency, should also describe the MC sample."
   ]
  },
  {
   "cell_type": "code",
   "execution_count": null,
   "metadata": {},
   "outputs": [],
   "source": [
    "combined_pdf = lambda x: I_rs_mc * A_rs(x) + I_ws_mc * A_ws(x) + I_phsp_mc * A_phsp(x)\n",
    "combined_mc_pdf = lambda x: efficiency(x) * combined_pdf(x)"
   ]
  },
  {
   "cell_type": "markdown",
   "metadata": {},
   "source": [
    "Let's plot the PDFs:"
   ]
  },
  {
   "cell_type": "code",
   "execution_count": null,
   "metadata": {},
   "outputs": [],
   "source": [
    "points = np.linspace(*pdf_domain, 100)\n",
    "model = [combined_pdf(x) for x in points]\n",
    "mc = [combined_mc_pdf(x) for x in points]\n",
    "\n",
    "plt.plot(points, model, \"b\", label=\"Model\")\n",
    "plt.plot(points, mc, \"r\", label=\"MC\")\n",
    "plt.legend()\n",
    "\n",
    "plt.show()"
   ]
  },
  {
   "cell_type": "markdown",
   "metadata": {},
   "source": [
    "It looks like our combined PDF does what we expected.\n",
    "\n",
    "Now we just need to take a sample from the Model PDF, compare it to our combined MC samples and we should recover the correct efficiency."
   ]
  },
  {
   "cell_type": "code",
   "execution_count": null,
   "metadata": {},
   "outputs": [],
   "source": [
    "# Take a sample from the combined PDF\n",
    "combined_sample = sample(80000, combined_pdf)"
   ]
  },
  {
   "cell_type": "code",
   "execution_count": null,
   "metadata": {},
   "outputs": [],
   "source": [
    "# Make histograms of the model + MC, find their ratio\n",
    "model_hist, bins = np.histogram(combined_sample, bins=100, density=True)\n",
    "mc_hist, _ = np.histogram(np.concatenate((mc_rs_sample, mc_ws_sample, mc_phsp_sample)), bins=bins, density=True)\n",
    "\n",
    "bin_centres = (bins[1:] + bins[:-1]) / 2\n",
    "hist_ratio = mc_hist / model_hist\n",
    "ideal_efficiency = [efficiency(x) for x in bin_centres]\n"
   ]
  },
  {
   "cell_type": "code",
   "execution_count": null,
   "metadata": {},
   "outputs": [],
   "source": [
    "fig, ax = plt.subplots(1, 2, figsize=(9, 6))\n",
    "\n",
    "ax[0].plot(bin_centres, model_hist, \".\", label=\"Model\")\n",
    "ax[0].plot(bin_centres, mc_hist, \"r.\", label=\"MC\")\n",
    "ax[0].legend()\n",
    "\n",
    "\n",
    "ax[1].plot(bin_centres, hist_ratio, \"k+\", label=\"Measured\")\n",
    "ax[1].plot(bin_centres, ideal_efficiency, label=\"Actual\")\n",
    "ax[1].set_title(\"Efficiency\")\n",
    "ax[1].legend()\n",
    "plt.show()"
   ]
  },
  {
   "cell_type": "code",
   "execution_count": null,
   "metadata": {},
   "outputs": [],
   "source": []
  },
  {
   "cell_type": "code",
   "execution_count": null,
   "metadata": {},
   "outputs": [],
   "source": []
  }
 ],
 "metadata": {
  "kernelspec": {
   "display_name": "Python 3",
   "language": "python",
   "name": "python3"
  },
  "language_info": {
   "codemirror_mode": {
    "name": "ipython",
    "version": 3
   },
   "file_extension": ".py",
   "mimetype": "text/x-python",
   "name": "python",
   "nbconvert_exporter": "python",
   "pygments_lexer": "ipython3",
   "version": "3.7.3"
  }
 },
 "nbformat": 4,
 "nbformat_minor": 2
}
