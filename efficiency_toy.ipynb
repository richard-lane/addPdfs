{
 "cells": [
  {
   "cell_type": "markdown",
   "metadata": {},
   "source": [
    "Efficiency Toy\n",
    "====\n",
    "\n",
    "Example of the efficiency correction procedure using multiple distributions"
   ]
  },
  {
   "cell_type": "code",
   "execution_count": 1,
   "metadata": {},
   "outputs": [],
   "source": [
    "# Just some boilerplate code\n",
    "import numpy as np\n",
    "from scipy.stats import norm\n",
    "import matplotlib.pyplot as plt\n",
    "\n",
    "from matplotlib import rcParams\n",
    "\n",
    "rcParams[\"figure.figsize\"] = (10.0, 8.0)\n",
    "\n",
    "rng = np.random.default_rng()\n",
    "pdf_domain = (-3, 7)\n",
    "pdf_range = (0, 1.0)\n",
    "\n",
    "\n",
    "def sample(N, pdf):\n",
    "    \"\"\"\n",
    "    Use accept-reject sampling to get N samples from pdf\n",
    "    \n",
    "    slow\n",
    "    \n",
    "    \"\"\"\n",
    "    points = np.zeros(N)\n",
    "    num_generated = 0\n",
    "\n",
    "    while num_generated < N:\n",
    "        # Generate a point\n",
    "        x = pdf_domain[0] + (pdf_domain[1] - pdf_domain[0]) * rng.random()\n",
    "        y = pdf_range[0] + (pdf_range[1] - pdf_range[0]) * rng.random()\n",
    "\n",
    "        if y < pdf(x):\n",
    "            points[num_generated] = x\n",
    "            num_generated += 1\n",
    "\n",
    "    return points"
   ]
  },
  {
   "cell_type": "markdown",
   "metadata": {},
   "source": [
    "We have three different distributions - call them WS, RS (\"wrong/right sign\") and phsp.\n",
    "We can generate these from the models (\"model sample\") or via LHCb Monte Carlo (\"MC sample\").\n",
    "\n",
    "The MC samples are affected by the efficiency- by comparing the MC sample to the model samples\n",
    "We can extract the efficiency function $\\epsilon(x)$.\n",
    "\n",
    "We have three models; their PDFs are $\\mathcal{A}_{RS}(x)$, $\\mathcal{A}_{WS}(x)$ and $\\mathcal{A}_{phsp}(x)$.\n",
    "The corresponding PDFs describing the MC are $\\mathcal{A}_{RS}(x)\\epsilon(x)$, etc.\n",
    "\n",
    "The PDF describing the combined model samples is:\n",
    "$p_{model}(x) = \\mathcal{I}_{RS}\\mathcal{A}_{RS}(x) + \\mathcal{I}_{WS}\\mathcal{A}_{WS}(x) + \\mathcal{I}_{phsp}\\mathcal{A}_{phsp}(x)$; the PDF describing the combined MC samples is this multiplied by $\\epsilon(x)$. $\\mathcal{I}_i$ are numerical factors that can be found from the relative statistics of the MC samples.\n",
    "\n",
    "Below is a toy example of the procedure used to find the efficiency.\n",
    "\n",
    "First we need to generate MC samples:"
   ]
  },
  {
   "cell_type": "code",
   "execution_count": 2,
   "metadata": {},
   "outputs": [],
   "source": [
    "# Model \"PDFs\" - not normalised (on purpose, since in reality amplitude models are rarely normalised)\n",
    "A_rs = lambda x: 1.1 * norm.pdf(x, loc=0, scale=1)\n",
    "A_ws = lambda x: 0.9 * norm.pdf(x, loc=3, scale=0.8)\n",
    "A_phsp = lambda x: 0.5 * int(pdf_domain[0] < pdf_domain[1])\n",
    "\n",
    "efficiency = lambda x: 0.9 + 0.1 * np.sin(x)\n",
    "A_rs_mc = lambda x: efficiency(x) * A_rs(x)\n",
    "A_ws_mc = lambda x: efficiency(x) * A_ws(x)\n",
    "A_phsp_mc = lambda x: efficiency(x) * A_phsp(x)"
   ]
  },
  {
   "cell_type": "code",
   "execution_count": null,
   "metadata": {},
   "outputs": [],
   "source": [
    "# Generate different numbers of points from each distribution\n",
    "mc_rs_sample = sample(2000, A_rs_mc)\n",
    "mc_ws_sample = sample(4000, A_ws)\n",
    "mc_phsp_sample = sample(2000, A_phsp)"
   ]
  },
  {
   "cell_type": "markdown",
   "metadata": {},
   "source": [
    "Next we need to find the weights $\\mathcal{I}_i$ describing the combined model:"
   ]
  },
  {
   "cell_type": "code",
   "execution_count": null,
   "metadata": {},
   "outputs": [],
   "source": [
    "I_rs, I_ws, I_phsp = 0.0, 0.0, 0.0\n",
    "\n",
    "for p in mc_rs_sample:\n",
    "    I_rs += 1 / A_rs(p)\n",
    "for p in mc_ws_sample:\n",
    "    I_ws += 1 / A_ws(p)\n",
    "for p in mc_phsp_sample:\n",
    "    I_phsp += 1 / A_phsp(p)\n",
    "\n",
    "# Scale the weights to something more sensible\n",
    "scale_factor = I_rs + I_ws + I_phsp\n",
    "I_rs /= scale_factor\n",
    "I_ws /= scale_factor\n",
    "I_phsp /= scale_factor"
   ]
  },
  {
   "cell_type": "markdown",
   "metadata": {},
   "source": [
    "We can then construct the model PDF. This, when multiplied by the efficiency, should also describe the MC sample."
   ]
  },
  {
   "cell_type": "code",
   "execution_count": null,
   "metadata": {},
   "outputs": [],
   "source": [
    "combined_pdf = lambda x: I_rs * A_rs(x) + I_ws * A_ws(x) + I_phsp * A_phsp(x)"
   ]
  },
  {
   "cell_type": "markdown",
   "metadata": {},
   "source": [
    "We can recover the efficiency function by taking a sample from the combined model PDF and comparing it to the combined MC samples:"
   ]
  },
  {
   "cell_type": "code",
   "execution_count": null,
   "metadata": {},
   "outputs": [],
   "source": [
    "# Take a sample from the combined PDF\n",
    "combined_sample = sample(9000, combined_pdf)"
   ]
  },
  {
   "cell_type": "code",
   "execution_count": null,
   "metadata": {},
   "outputs": [],
   "source": [
    "# Make histograms of the model + MC, find their ratio\n",
    "model_hist, bins = np.histogram(combined_sample, bins=100, density=True)\n",
    "mc_hist, _ = np.histogram(np.concatenate((mc_rs_sample, mc_ws_sample, mc_phsp_sample)), bins=bins, density=True)\n",
    "\n",
    "bin_centres = (bins[1:] + bins[:-1]) / 2\n",
    "hist_ratio = mc_hist / model_hist\n",
    "ideal_efficiency = [efficiency(x) for x in bin_centres]\n",
    "\n",
    "plt.plot(bin_centres, hist_ratio, \"k+\", label=\"Measured\")\n",
    "plt.plot(bin_centres, ideal_efficiency, label=\"Actual\")\n",
    "plt.title(\"Efficiency\")\n",
    "plt.legend()\n",
    "plt.show()"
   ]
  },
  {
   "cell_type": "code",
   "execution_count": null,
   "metadata": {},
   "outputs": [],
   "source": []
  }
 ],
 "metadata": {
  "kernelspec": {
   "display_name": "Python 3",
   "language": "python",
   "name": "python3"
  },
  "language_info": {
   "codemirror_mode": {
    "name": "ipython",
    "version": 3
   },
   "file_extension": ".py",
   "mimetype": "text/x-python",
   "name": "python",
   "nbconvert_exporter": "python",
   "pygments_lexer": "ipython3",
   "version": "3.7.3"
  }
 },
 "nbformat": 4,
 "nbformat_minor": 2
}
