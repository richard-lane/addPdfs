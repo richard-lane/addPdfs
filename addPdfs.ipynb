{
 "cells": [
  {
   "cell_type": "markdown",
   "metadata": {},
   "source": [
    "Adding PDFs\n",
    "====\n",
    "\n",
    "Investigation into using a PDF to describe the combination of multiple distributions.\n",
    "\n",
    "Consider two Gaussians $x_1$ and $x_2$:"
   ]
  },
  {
   "cell_type": "code",
   "execution_count": 14,
   "metadata": {},
   "outputs": [
    {
     "data": {
      "image/png": "[encoded data removed]",
      "text/plain": [
       "<Figure size 432x288 with 1 Axes>"
      ]
     },
     "metadata": {
      "needs_background": "light"
     },
     "output_type": "display_data"
    }
   ],
   "source": [
    "import numpy as np\n",
    "import matplotlib.pyplot as plt\n",
    "\n",
    "N = 100000\n",
    "\n",
    "def\n",
    "\n",
    "rng = np.random.default_rng()\n",
    "\n",
    "x1 = rng.normal(-2, 1.5, N)\n",
    "x2 = rng.normal(2, 2, N)\n",
    "\n",
    "kw = {\"histtype\": \"step\", \"bins\": np.linspace(-8, 10, 100)}\n",
    "plt.hist(x1, **kw, label=r\"$x_1$\")\n",
    "plt.hist(x2, **kw, label=r\"$x_2$\")\n",
    "plt.hist(np.concatenate((x1, x2)), **kw, label=r\"$x_1+x_2$\")\n",
    "\n",
    "plt.legend()\n",
    "plt.show()\n"
   ]
  },
  {
   "cell_type": "markdown",
   "metadata": {},
   "source": [
    "What PDF describes the combination $x_1$ + $x_2$?\n",
    "\n",
    "From the principles of linearity (?) and scaling (?), the only thing the combined PDF can be is:\n",
    "\n",
    "$p(x) = I_1p_1(x) + I_2p_2(x)$\n",
    "\n",
    "Where:\n",
    "\n",
    "$I_j = \\sum_{i=0}^{N_j}\\frac{1}{p_1(x_j)}$\n"
   ]
  },
  {
   "cell_type": "code",
   "execution_count": null,
   "metadata": {},
   "outputs": [],
   "source": []
  },
  {
   "cell_type": "code",
   "execution_count": null,
   "metadata": {},
   "outputs": [],
   "source": []
  }
 ],
 "metadata": {
  "kernelspec": {
   "display_name": "Python 3",
   "language": "python",
   "name": "python3"
  },
  "language_info": {
   "codemirror_mode": {
    "name": "ipython",
    "version": 3
   },
   "file_extension": ".py",
   "mimetype": "text/x-python",
   "name": "python",
   "nbconvert_exporter": "python",
   "pygments_lexer": "ipython3",
   "version": "3.7.3"
  }
 },
 "nbformat": 4,
 "nbformat_minor": 2
}
